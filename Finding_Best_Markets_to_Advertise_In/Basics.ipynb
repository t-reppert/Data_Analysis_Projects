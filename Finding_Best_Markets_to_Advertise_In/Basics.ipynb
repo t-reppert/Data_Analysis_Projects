{
 "cells": [
  {
   "cell_type": "markdown",
   "metadata": {},
   "source": [
    "# Analysis of Best Markets for E-Learning Advertisement\n",
    "\n",
    "* The goal of this project is to find the best markets to target for advertising our e-learning course product(s)\n"
   ]
  },
  {
   "cell_type": "code",
   "execution_count": 1,
   "metadata": {
    "collapsed": true
   },
   "outputs": [],
   "source": [
    "import pandas as pd\n",
    "import numpy as np\n",
    "import matplotlib.pyplot as plt\n"
   ]
  },
  {
   "cell_type": "markdown",
   "metadata": {},
   "source": [
    "The below survey was chosen to analyze based on target audience (new coders with varying interests) size and makeup which matches the audience our e-learning company wishes to reach.\n",
    "* We chose this data set instead of performing a new survey in the interest of saving time and money\n",
    "* This data set is a collection of 18174 survey participants answers for 136 questions \n",
    "* This data set can be downloaded at https://github.com/freeCodeCamp/2017-new-coder-survey"
   ]
  },
  {
   "cell_type": "code",
   "execution_count": 2,
   "metadata": {
    "collapsed": false
   },
   "outputs": [],
   "source": [
    "survey = pd.read_csv('2017-fCC-New-Coders-Survey-Data.csv',low_memory=False)"
   ]
  },
  {
   "cell_type": "code",
   "execution_count": 3,
   "metadata": {
    "collapsed": false
   },
   "outputs": [
    {
     "data": {
      "text/html": [
       "<div>\n",
       "<style scoped>\n",
       "    .dataframe tbody tr th:only-of-type {\n",
       "        vertical-align: middle;\n",
       "    }\n",
       "\n",
       "    .dataframe tbody tr th {\n",
       "        vertical-align: top;\n",
       "    }\n",
       "\n",
       "    .dataframe thead th {\n",
       "        text-align: right;\n",
       "    }\n",
       "</style>\n",
       "<table border=\"1\" class=\"dataframe\">\n",
       "  <thead>\n",
       "    <tr style=\"text-align: right;\">\n",
       "      <th></th>\n",
       "      <th>Age</th>\n",
       "      <th>AttendedBootcamp</th>\n",
       "      <th>BootcampFinish</th>\n",
       "      <th>BootcampLoanYesNo</th>\n",
       "      <th>BootcampName</th>\n",
       "      <th>BootcampRecommend</th>\n",
       "      <th>ChildrenNumber</th>\n",
       "      <th>CityPopulation</th>\n",
       "      <th>CodeEventConferences</th>\n",
       "      <th>CodeEventDjangoGirls</th>\n",
       "      <th>...</th>\n",
       "      <th>YouTubeFCC</th>\n",
       "      <th>YouTubeFunFunFunction</th>\n",
       "      <th>YouTubeGoogleDev</th>\n",
       "      <th>YouTubeLearnCode</th>\n",
       "      <th>YouTubeLevelUpTuts</th>\n",
       "      <th>YouTubeMIT</th>\n",
       "      <th>YouTubeMozillaHacks</th>\n",
       "      <th>YouTubeOther</th>\n",
       "      <th>YouTubeSimplilearn</th>\n",
       "      <th>YouTubeTheNewBoston</th>\n",
       "    </tr>\n",
       "  </thead>\n",
       "  <tbody>\n",
       "    <tr>\n",
       "      <th>0</th>\n",
       "      <td>27.0</td>\n",
       "      <td>0.0</td>\n",
       "      <td>NaN</td>\n",
       "      <td>NaN</td>\n",
       "      <td>NaN</td>\n",
       "      <td>NaN</td>\n",
       "      <td>NaN</td>\n",
       "      <td>more than 1 million</td>\n",
       "      <td>NaN</td>\n",
       "      <td>NaN</td>\n",
       "      <td>...</td>\n",
       "      <td>NaN</td>\n",
       "      <td>NaN</td>\n",
       "      <td>NaN</td>\n",
       "      <td>NaN</td>\n",
       "      <td>NaN</td>\n",
       "      <td>NaN</td>\n",
       "      <td>NaN</td>\n",
       "      <td>NaN</td>\n",
       "      <td>NaN</td>\n",
       "      <td>NaN</td>\n",
       "    </tr>\n",
       "    <tr>\n",
       "      <th>1</th>\n",
       "      <td>34.0</td>\n",
       "      <td>0.0</td>\n",
       "      <td>NaN</td>\n",
       "      <td>NaN</td>\n",
       "      <td>NaN</td>\n",
       "      <td>NaN</td>\n",
       "      <td>NaN</td>\n",
       "      <td>less than 100,000</td>\n",
       "      <td>NaN</td>\n",
       "      <td>NaN</td>\n",
       "      <td>...</td>\n",
       "      <td>1.0</td>\n",
       "      <td>NaN</td>\n",
       "      <td>NaN</td>\n",
       "      <td>NaN</td>\n",
       "      <td>NaN</td>\n",
       "      <td>NaN</td>\n",
       "      <td>NaN</td>\n",
       "      <td>NaN</td>\n",
       "      <td>NaN</td>\n",
       "      <td>NaN</td>\n",
       "    </tr>\n",
       "    <tr>\n",
       "      <th>2</th>\n",
       "      <td>21.0</td>\n",
       "      <td>0.0</td>\n",
       "      <td>NaN</td>\n",
       "      <td>NaN</td>\n",
       "      <td>NaN</td>\n",
       "      <td>NaN</td>\n",
       "      <td>NaN</td>\n",
       "      <td>more than 1 million</td>\n",
       "      <td>NaN</td>\n",
       "      <td>NaN</td>\n",
       "      <td>...</td>\n",
       "      <td>NaN</td>\n",
       "      <td>NaN</td>\n",
       "      <td>NaN</td>\n",
       "      <td>1.0</td>\n",
       "      <td>1.0</td>\n",
       "      <td>NaN</td>\n",
       "      <td>NaN</td>\n",
       "      <td>NaN</td>\n",
       "      <td>NaN</td>\n",
       "      <td>NaN</td>\n",
       "    </tr>\n",
       "    <tr>\n",
       "      <th>3</th>\n",
       "      <td>26.0</td>\n",
       "      <td>0.0</td>\n",
       "      <td>NaN</td>\n",
       "      <td>NaN</td>\n",
       "      <td>NaN</td>\n",
       "      <td>NaN</td>\n",
       "      <td>NaN</td>\n",
       "      <td>between 100,000 and 1 million</td>\n",
       "      <td>NaN</td>\n",
       "      <td>NaN</td>\n",
       "      <td>...</td>\n",
       "      <td>1.0</td>\n",
       "      <td>1.0</td>\n",
       "      <td>NaN</td>\n",
       "      <td>NaN</td>\n",
       "      <td>1.0</td>\n",
       "      <td>NaN</td>\n",
       "      <td>NaN</td>\n",
       "      <td>NaN</td>\n",
       "      <td>NaN</td>\n",
       "      <td>NaN</td>\n",
       "    </tr>\n",
       "    <tr>\n",
       "      <th>4</th>\n",
       "      <td>20.0</td>\n",
       "      <td>0.0</td>\n",
       "      <td>NaN</td>\n",
       "      <td>NaN</td>\n",
       "      <td>NaN</td>\n",
       "      <td>NaN</td>\n",
       "      <td>NaN</td>\n",
       "      <td>between 100,000 and 1 million</td>\n",
       "      <td>NaN</td>\n",
       "      <td>NaN</td>\n",
       "      <td>...</td>\n",
       "      <td>NaN</td>\n",
       "      <td>NaN</td>\n",
       "      <td>NaN</td>\n",
       "      <td>NaN</td>\n",
       "      <td>NaN</td>\n",
       "      <td>NaN</td>\n",
       "      <td>NaN</td>\n",
       "      <td>NaN</td>\n",
       "      <td>NaN</td>\n",
       "      <td>NaN</td>\n",
       "    </tr>\n",
       "  </tbody>\n",
       "</table>\n",
       "<p>5 rows × 136 columns</p>\n",
       "</div>"
      ],
      "text/plain": [
       "    Age  AttendedBootcamp  BootcampFinish  BootcampLoanYesNo BootcampName  \\\n",
       "0  27.0               0.0             NaN                NaN          NaN   \n",
       "1  34.0               0.0             NaN                NaN          NaN   \n",
       "2  21.0               0.0             NaN                NaN          NaN   \n",
       "3  26.0               0.0             NaN                NaN          NaN   \n",
       "4  20.0               0.0             NaN                NaN          NaN   \n",
       "\n",
       "   BootcampRecommend  ChildrenNumber                 CityPopulation  \\\n",
       "0                NaN             NaN            more than 1 million   \n",
       "1                NaN             NaN              less than 100,000   \n",
       "2                NaN             NaN            more than 1 million   \n",
       "3                NaN             NaN  between 100,000 and 1 million   \n",
       "4                NaN             NaN  between 100,000 and 1 million   \n",
       "\n",
       "   CodeEventConferences  CodeEventDjangoGirls         ...           \\\n",
       "0                   NaN                   NaN         ...            \n",
       "1                   NaN                   NaN         ...            \n",
       "2                   NaN                   NaN         ...            \n",
       "3                   NaN                   NaN         ...            \n",
       "4                   NaN                   NaN         ...            \n",
       "\n",
       "   YouTubeFCC  YouTubeFunFunFunction  YouTubeGoogleDev  YouTubeLearnCode  \\\n",
       "0         NaN                    NaN               NaN               NaN   \n",
       "1         1.0                    NaN               NaN               NaN   \n",
       "2         NaN                    NaN               NaN               1.0   \n",
       "3         1.0                    1.0               NaN               NaN   \n",
       "4         NaN                    NaN               NaN               NaN   \n",
       "\n",
       "   YouTubeLevelUpTuts  YouTubeMIT  YouTubeMozillaHacks YouTubeOther  \\\n",
       "0                 NaN         NaN                  NaN          NaN   \n",
       "1                 NaN         NaN                  NaN          NaN   \n",
       "2                 1.0         NaN                  NaN          NaN   \n",
       "3                 1.0         NaN                  NaN          NaN   \n",
       "4                 NaN         NaN                  NaN          NaN   \n",
       "\n",
       "   YouTubeSimplilearn  YouTubeTheNewBoston  \n",
       "0                 NaN                  NaN  \n",
       "1                 NaN                  NaN  \n",
       "2                 NaN                  NaN  \n",
       "3                 NaN                  NaN  \n",
       "4                 NaN                  NaN  \n",
       "\n",
       "[5 rows x 136 columns]"
      ]
     },
     "execution_count": 3,
     "metadata": {},
     "output_type": "execute_result"
    }
   ],
   "source": [
    "survey.head(5)"
   ]
  },
  {
   "cell_type": "code",
   "execution_count": 4,
   "metadata": {
    "collapsed": false
   },
   "outputs": [
    {
     "data": {
      "text/plain": [
       "(18175, 136)"
      ]
     },
     "execution_count": 4,
     "metadata": {},
     "output_type": "execute_result"
    }
   ],
   "source": [
    "survey.shape"
   ]
  },
  {
   "cell_type": "code",
   "execution_count": 5,
   "metadata": {
    "collapsed": false,
    "scrolled": true
   },
   "outputs": [
    {
     "data": {
      "text/plain": [
       "['Age',\n",
       " 'AttendedBootcamp',\n",
       " 'BootcampFinish',\n",
       " 'BootcampLoanYesNo',\n",
       " 'BootcampName',\n",
       " 'BootcampRecommend',\n",
       " 'ChildrenNumber',\n",
       " 'CityPopulation',\n",
       " 'CodeEventConferences',\n",
       " 'CodeEventDjangoGirls',\n",
       " 'CodeEventFCC',\n",
       " 'CodeEventGameJam',\n",
       " 'CodeEventGirlDev',\n",
       " 'CodeEventHackathons',\n",
       " 'CodeEventMeetup']"
      ]
     },
     "execution_count": 5,
     "metadata": {},
     "output_type": "execute_result"
    }
   ],
   "source": [
    "list(survey.columns)[:15]"
   ]
  },
  {
   "cell_type": "markdown",
   "metadata": {},
   "source": [
    "We will target JobRoleInterest column for analysis since this column describes the role(s) the participant is interested in."
   ]
  },
  {
   "cell_type": "code",
   "execution_count": 6,
   "metadata": {
    "collapsed": false
   },
   "outputs": [
    {
     "data": {
      "text/plain": [
       "Full-Stack Web Developer                                                                                                                                                                                                                                                    11.8%\n",
       "  Front-End Web Developer                                                                                                                                                                                                                                                    6.4%\n",
       "  Data Scientist                                                                                                                                                                                                                                                             2.2%\n",
       "Back-End Web Developer                                                                                                                                                                                                                                                       2.0%\n",
       "  Mobile Developer                                                                                                                                                                                                                                                           1.7%\n",
       "Game Developer                                                                                                                                                                                                                                                               1.6%\n",
       "Information Security                                                                                                                                                                                                                                                         1.3%\n",
       "Full-Stack Web Developer,   Front-End Web Developer                                                                                                                                                                                                                          0.9%\n",
       "  Front-End Web Developer, Full-Stack Web Developer                                                                                                                                                                                                                          0.8%\n",
       "  Product Manager                                                                                                                                                                                                                                                            0.8%\n",
       "Data Engineer                                                                                                                                                                                                                                                                0.8%\n",
       "  User Experience Designer                                                                                                                                                                                                                                                   0.7%\n",
       "  User Experience Designer,   Front-End Web Developer                                                                                                                                                                                                                        0.6%\n",
       "  Front-End Web Developer, Back-End Web Developer, Full-Stack Web Developer                                                                                                                                                                                                  0.6%\n",
       "Back-End Web Developer,   Front-End Web Developer, Full-Stack Web Developer                                                                                                                                                                                                  0.5%\n",
       "  DevOps / SysAdmin                                                                                                                                                                                                                                                          0.5%\n",
       "Back-End Web Developer, Full-Stack Web Developer,   Front-End Web Developer                                                                                                                                                                                                  0.5%\n",
       "Full-Stack Web Developer,   Front-End Web Developer, Back-End Web Developer                                                                                                                                                                                                  0.4%\n",
       "  Front-End Web Developer, Full-Stack Web Developer, Back-End Web Developer                                                                                                                                                                                                  0.4%\n",
       "Full-Stack Web Developer,   Mobile Developer                                                                                                                                                                                                                                 0.4%\n",
       "  Front-End Web Developer,   User Experience Designer                                                                                                                                                                                                                        0.4%\n",
       "Back-End Web Developer, Full-Stack Web Developer                                                                                                                                                                                                                             0.4%\n",
       "Full-Stack Web Developer, Back-End Web Developer                                                                                                                                                                                                                             0.4%\n",
       "Back-End Web Developer,   Front-End Web Developer                                                                                                                                                                                                                            0.3%\n",
       "Data Engineer,   Data Scientist                                                                                                                                                                                                                                              0.3%\n",
       "Full-Stack Web Developer, Back-End Web Developer,   Front-End Web Developer                                                                                                                                                                                                  0.3%\n",
       "  Front-End Web Developer,   Mobile Developer                                                                                                                                                                                                                                0.3%\n",
       "Full-Stack Web Developer,   Data Scientist                                                                                                                                                                                                                                   0.2%\n",
       "  Data Scientist, Data Engineer                                                                                                                                                                                                                                              0.2%\n",
       "  Mobile Developer, Game Developer                                                                                                                                                                                                                                           0.2%\n",
       "                                                                                                                                                                                                                                                                            ...  \n",
       "  Data Scientist,   Front-End Web Developer, Full-Stack Web Developer, Back-End Web Developer                                                                                                                                                                                0.0%\n",
       "Full-Stack Web Developer, Back-End Web Developer,   Front-End Web Developer,   Data Scientist                                                                                                                                                                                0.0%\n",
       "  Product Manager,   DevOps / SysAdmin,   User Experience Designer, Full-Stack Web Developer,   Mobile Developer,   Quality Assurance Engineer, Information Security, Back-End Web Developer, Data Engineer,   Front-End Web Developer,   Data Scientist                     0.0%\n",
       "  Data Scientist, Information Security, Back-End Web Developer, Data Engineer,   DevOps / SysAdmin, Full-Stack Web Developer                                                                                                                                                 0.0%\n",
       "  Front-End Web Developer,   Data Scientist, Back-End Web Developer, Full-Stack Web Developer, Game Developer,   Mobile Developer                                                                                                                                            0.0%\n",
       "Back-End Web Developer, Data Engineer,   Mobile Developer, Information Security,   DevOps / SysAdmin                                                                                                                                                                         0.0%\n",
       "Full-Stack Web Developer,   Front-End Web Developer,   User Experience Designer, Game Developer,   Mobile Developer                                                                                                                                                          0.0%\n",
       "  Front-End Web Developer, Full-Stack Web Developer,   User Experience Designer,   Quality Assurance Engineer, Back-End Web Developer                                                                                                                                        0.0%\n",
       "Full-Stack Web Developer,   User Experience Designer, Back-End Web Developer,   Front-End Web Developer,   Product Manager, Information Security,   Data Scientist, Data Engineer, Game Developer,   Mobile Developer,   DevOps / SysAdmin,   Quality Assurance Engineer     0.0%\n",
       "Full-Stack Web Developer, Back-End Web Developer,   Mobile Developer, Game Developer                                                                                                                                                                                         0.0%\n",
       "  Quality Assurance Engineer, Back-End Web Developer                                                                                                                                                                                                                         0.0%\n",
       "  Quality Assurance Engineer,   Front-End Web Developer,   User Experience Designer, Game Developer                                                                                                                                                                          0.0%\n",
       "  DevOps / SysAdmin,   Front-End Web Developer,   Data Scientist, Full-Stack Web Developer, Information Security, Data Engineer, Back-End Web Developer                                                                                                                      0.0%\n",
       "  Mobile Developer, Game Developer,   Front-End Web Developer, Data Engineer,   Data Scientist, Back-End Web Developer, Full-Stack Web Developer                                                                                                                             0.0%\n",
       "Data Engineer,   Front-End Web Developer,   User Experience Designer,   Data Scientist, Back-End Web Developer, Information Security, Full-Stack Web Developer                                                                                                               0.0%\n",
       "Full-Stack Web Developer,   Product Manager,   Mobile Developer, Information Security                                                                                                                                                                                        0.0%\n",
       "Game Developer,   Data Scientist, Back-End Web Developer, Full-Stack Web Developer,   Front-End Web Developer                                                                                                                                                                0.0%\n",
       "  Data Scientist, Game Developer,   Quality Assurance Engineer                                                                                                                                                                                                               0.0%\n",
       "Information Security, Data Engineer, Full-Stack Web Developer                                                                                                                                                                                                                0.0%\n",
       "Full-Stack Web Developer,   Quality Assurance Engineer, Back-End Web Developer,   DevOps / SysAdmin,   Front-End Web Developer                                                                                                                                               0.0%\n",
       "full stack developer                                                                                                                                                                                                                                                         0.0%\n",
       "  Front-End Web Developer,   Data Scientist,   User Experience Designer, Teacher                                                                                                                                                                                             0.0%\n",
       "  Mobile Developer,   Quality Assurance Engineer, Data Engineer,   Front-End Web Developer,   Data Scientist,   Product Manager, Information Security                                                                                                                        0.0%\n",
       "  User Experience Designer,   Front-End Web Developer, Full-Stack Web Developer,   Mobile Developer, Back-End Web Developer,   DevOps / SysAdmin, Game Developer                                                                                                             0.0%\n",
       "  Mobile Developer,   Front-End Web Developer,   Quality Assurance Engineer, Back-End Web Developer                                                                                                                                                                          0.0%\n",
       "Information Security,   Front-End Web Developer,   User Experience Designer, Game Developer,   Mobile Developer                                                                                                                                                              0.0%\n",
       "  Data Scientist, Back-End Web Developer, Data Engineer, Full-Stack Web Developer,   Front-End Web Developer                                                                                                                                                                 0.0%\n",
       "Full-Stack Web Developer, Data Engineer, Information Security,   Quality Assurance Engineer,   Data Scientist                                                                                                                                                                0.0%\n",
       "  Product Manager,   Mobile Developer, Full-Stack Web Developer, Information Security, Game Developer                                                                                                                                                                        0.0%\n",
       "  DevOps / SysAdmin, Data Engineer,   Front-End Web Developer,   Product Manager,   Mobile Developer, Back-End Web Developer,   User Experience Designer, Full-Stack Web Developer                                                                                           0.0%\n",
       "Name: JobRoleInterest, Length: 3213, dtype: object"
      ]
     },
     "execution_count": 6,
     "metadata": {},
     "output_type": "execute_result"
    }
   ],
   "source": [
    "survey['JobRoleInterest'].value_counts(normalize=True).mul(100).round(1).astype(str) + '%'"
   ]
  },
  {
   "cell_type": "markdown",
   "metadata": {},
   "source": [
    "Observations:\n",
    "* Participants can be interested in more than one subject\n",
    "* The sample is still representative if they are interested in more than one subject\n"
   ]
  },
  {
   "cell_type": "code",
   "execution_count": 7,
   "metadata": {
    "collapsed": false
   },
   "outputs": [],
   "source": [
    "survey['Interests'] = survey['JobRoleInterest'].apply(lambda x: 'Multiple' if ',' in str(x) else 'Single')"
   ]
  },
  {
   "cell_type": "code",
   "execution_count": 8,
   "metadata": {
    "collapsed": false
   },
   "outputs": [
    {
     "data": {
      "text/plain": [
       "<matplotlib.axes._subplots.AxesSubplot at 0x7f0c21f0ffd0>"
      ]
     },
     "execution_count": 8,
     "metadata": {},
     "output_type": "execute_result"
    },
    {
     "data": {
      "image/png": "[encoded data removed]",
      "text/plain": [
       "<matplotlib.figure.Figure at 0x7f0c21f7f668>"
      ]
     },
     "metadata": {},
     "output_type": "display_data"
    }
   ],
   "source": [
    "%matplotlib inline\n",
    "survey['Interests'].value_counts().plot.bar()"
   ]
  },
  {
   "cell_type": "code",
   "execution_count": 9,
   "metadata": {
    "collapsed": true
   },
   "outputs": [],
   "source": [
    "survey['WebOrMobile'] = survey['JobRoleInterest'].apply(lambda x: True if 'Web Developer' in str(x) or 'Mobile Developer' in str(x) else False)"
   ]
  },
  {
   "cell_type": "code",
   "execution_count": 10,
   "metadata": {
    "collapsed": false
   },
   "outputs": [
    {
     "data": {
      "text/plain": [
       "False    66.8%\n",
       "True     33.2%\n",
       "Name: WebOrMobile, dtype: object"
      ]
     },
     "execution_count": 10,
     "metadata": {},
     "output_type": "execute_result"
    }
   ],
   "source": [
    "survey['WebOrMobile'].value_counts(normalize=True).mul(100).round(1).astype(str) + '%'"
   ]
  },
  {
   "cell_type": "markdown",
   "metadata": {},
   "source": [
    "Based on the above, 33% are interested in either Web or Mobile Development"
   ]
  },
  {
   "cell_type": "markdown",
   "metadata": {},
   "source": [
    "* Removing rows that have no response to JobRoleInterest question"
   ]
  },
  {
   "cell_type": "code",
   "execution_count": 11,
   "metadata": {
    "collapsed": false
   },
   "outputs": [],
   "source": [
    "survey = survey.dropna(subset=['JobRoleInterest'])"
   ]
  },
  {
   "cell_type": "code",
   "execution_count": 12,
   "metadata": {
    "collapsed": false
   },
   "outputs": [
    {
     "data": {
      "text/plain": [
       "United States of America         3125\n",
       "India                             528\n",
       "United Kingdom                    315\n",
       "Canada                            260\n",
       "Poland                            131\n",
       "Brazil                            129\n",
       "Germany                           125\n",
       "Australia                         112\n",
       "Russia                            102\n",
       "Ukraine                            89\n",
       "Nigeria                            84\n",
       "Spain                              77\n",
       "France                             75\n",
       "Romania                            71\n",
       "Netherlands (Holland, Europe)      65\n",
       "Italy                              62\n",
       "Philippines                        52\n",
       "Serbia                             52\n",
       "Greece                             46\n",
       "Ireland                            43\n",
       "South Africa                       39\n",
       "Mexico                             37\n",
       "Turkey                             36\n",
       "Hungary                            34\n",
       "Singapore                          34\n",
       "New Zealand                        33\n",
       "Croatia                            32\n",
       "Argentina                          32\n",
       "Sweden                             31\n",
       "Pakistan                           31\n",
       "                                 ... \n",
       "Somalia                             1\n",
       "Cameroon                            1\n",
       "Panama                              1\n",
       "Angola                              1\n",
       "Cuba                                1\n",
       "Yemen                               1\n",
       "Samoa                               1\n",
       "Nicaragua                           1\n",
       "Trinidad & Tobago                   1\n",
       "Gambia                              1\n",
       "Mozambique                          1\n",
       "Jordan                              1\n",
       "Nambia                              1\n",
       "Guadeloupe                          1\n",
       "Guatemala                           1\n",
       "Sudan                               1\n",
       "Liberia                             1\n",
       "Channel Islands                     1\n",
       "Botswana                            1\n",
       "Qatar                               1\n",
       "Anguilla                            1\n",
       "Myanmar                             1\n",
       "Papua New Guinea                    1\n",
       "Vanuatu                             1\n",
       "Cayman Islands                      1\n",
       "Rwanda                              1\n",
       "Kyrgyzstan                          1\n",
       "Turkmenistan                        1\n",
       "Bolivia                             1\n",
       "Aruba                               1\n",
       "Name: CountryLive, Length: 137, dtype: int64"
      ]
     },
     "execution_count": 12,
     "metadata": {},
     "output_type": "execute_result"
    }
   ],
   "source": [
    "survey['CountryLive'].value_counts()"
   ]
  },
  {
   "cell_type": "code",
   "execution_count": 13,
   "metadata": {
    "collapsed": false
   },
   "outputs": [
    {
     "data": {
      "text/plain": [
       "United States of America         45.7%\n",
       "India                             7.7%\n",
       "United Kingdom                    4.6%\n",
       "Canada                            3.8%\n",
       "Poland                            1.9%\n",
       "Brazil                            1.9%\n",
       "Germany                           1.8%\n",
       "Australia                         1.6%\n",
       "Russia                            1.5%\n",
       "Ukraine                           1.3%\n",
       "Nigeria                           1.2%\n",
       "Spain                             1.1%\n",
       "France                            1.1%\n",
       "Romania                           1.0%\n",
       "Netherlands (Holland, Europe)     1.0%\n",
       "Italy                             0.9%\n",
       "Philippines                       0.8%\n",
       "Serbia                            0.8%\n",
       "Greece                            0.7%\n",
       "Ireland                           0.6%\n",
       "South Africa                      0.6%\n",
       "Mexico                            0.5%\n",
       "Turkey                            0.5%\n",
       "Hungary                           0.5%\n",
       "Singapore                         0.5%\n",
       "New Zealand                       0.5%\n",
       "Croatia                           0.5%\n",
       "Argentina                         0.5%\n",
       "Sweden                            0.5%\n",
       "Pakistan                          0.5%\n",
       "                                 ...  \n",
       "Somalia                           0.0%\n",
       "Cameroon                          0.0%\n",
       "Panama                            0.0%\n",
       "Angola                            0.0%\n",
       "Cuba                              0.0%\n",
       "Yemen                             0.0%\n",
       "Samoa                             0.0%\n",
       "Nicaragua                         0.0%\n",
       "Trinidad & Tobago                 0.0%\n",
       "Gambia                            0.0%\n",
       "Mozambique                        0.0%\n",
       "Jordan                            0.0%\n",
       "Nambia                            0.0%\n",
       "Guadeloupe                        0.0%\n",
       "Guatemala                         0.0%\n",
       "Sudan                             0.0%\n",
       "Liberia                           0.0%\n",
       "Channel Islands                   0.0%\n",
       "Botswana                          0.0%\n",
       "Qatar                             0.0%\n",
       "Anguilla                          0.0%\n",
       "Myanmar                           0.0%\n",
       "Papua New Guinea                  0.0%\n",
       "Vanuatu                           0.0%\n",
       "Cayman Islands                    0.0%\n",
       "Rwanda                            0.0%\n",
       "Kyrgyzstan                        0.0%\n",
       "Turkmenistan                      0.0%\n",
       "Bolivia                           0.0%\n",
       "Aruba                             0.0%\n",
       "Name: CountryLive, Length: 137, dtype: object"
      ]
     },
     "execution_count": 13,
     "metadata": {},
     "output_type": "execute_result"
    }
   ],
   "source": [
    "survey['CountryLive'].value_counts(normalize=True).mul(100).round(1).astype(str) + \"%\""
   ]
  },
  {
   "cell_type": "markdown",
   "metadata": {},
   "source": [
    "* Based on the counts/percentages above, I would recommend focusing the advertisements in the U.S. and India."
   ]
  },
  {
   "cell_type": "markdown",
   "metadata": {},
   "source": [
    "* We will change any 0 values for MonthsProgramming to 1 to avoid division by zero for the MoneySpentPerMonth column we are creating"
   ]
  },
  {
   "cell_type": "code",
   "execution_count": 14,
   "metadata": {
    "collapsed": false
   },
   "outputs": [],
   "source": [
    "survey.loc[(survey['MonthsProgramming'] == 0),'MonthsProgramming'] = 1"
   ]
  },
  {
   "cell_type": "code",
   "execution_count": 15,
   "metadata": {
    "collapsed": false
   },
   "outputs": [],
   "source": [
    "survey['MoneySpentPerMonth'] = survey['MoneyForLearning'] / survey['MonthsProgramming']"
   ]
  },
  {
   "cell_type": "code",
   "execution_count": 16,
   "metadata": {
    "collapsed": false
   },
   "outputs": [
    {
     "data": {
      "text/plain": [
       " 0.000000        3092\n",
       "NaN               675\n",
       " 50.000000        128\n",
       " 25.000000        120\n",
       " 16.666667        118\n",
       " 100.000000       118\n",
       " 33.333333        109\n",
       " 8.333333         105\n",
       " 20.000000         88\n",
       " 10.000000         83\n",
       " 83.333333         80\n",
       " 166.666667        67\n",
       " 12.500000         66\n",
       " 4.166667          65\n",
       " 5.000000          62\n",
       " 200.000000        53\n",
       " 500.000000        50\n",
       " 66.666667         47\n",
       " 41.666667         46\n",
       " 250.000000        44\n",
       " 1000.000000       43\n",
       " 3.333333          38\n",
       " 20.833333         37\n",
       " 125.000000        36\n",
       " 6.666667          35\n",
       " 2.500000          33\n",
       " 5.555556          31\n",
       " 150.000000        31\n",
       " 333.333333        31\n",
       " 11.111111         31\n",
       "                 ... \n",
       " 1.562500           1\n",
       " 29.000000          1\n",
       " 23.000000          1\n",
       " 19.000000          1\n",
       " 31.000000          1\n",
       " 3.625000           1\n",
       " 4.750000           1\n",
       " 92.000000          1\n",
       " 117.500000         1\n",
       " 4.687500           1\n",
       " 1142.857143        1\n",
       " 0.900000           1\n",
       " 866.666667         1\n",
       " 1.344086           1\n",
       " 1670.000000        1\n",
       " 4.857143           1\n",
       " 122.500000         1\n",
       " 370.000000         1\n",
       " 1.052632           1\n",
       " 1.818182           1\n",
       " 3.472222           1\n",
       " 1.190476           1\n",
       " 1.612903           1\n",
       " 7.777778           1\n",
       " 17.833333          1\n",
       " 3.076923           1\n",
       " 10.833333          1\n",
       " 30000.000000       1\n",
       " 312.500000         1\n",
       " 611.111111         1\n",
       "Name: MoneySpentPerMonth, Length: 494, dtype: int64"
      ]
     },
     "execution_count": 16,
     "metadata": {},
     "output_type": "execute_result"
    }
   ],
   "source": [
    "survey['MoneySpentPerMonth'].value_counts(dropna=False)"
   ]
  },
  {
   "cell_type": "markdown",
   "metadata": {},
   "source": [
    "* Dropping rows where Null is in the MoneySpentPerMonth column"
   ]
  },
  {
   "cell_type": "code",
   "execution_count": 17,
   "metadata": {
    "collapsed": true
   },
   "outputs": [],
   "source": [
    "survey = survey.dropna(subset=['MoneySpentPerMonth'])"
   ]
  },
  {
   "cell_type": "code",
   "execution_count": 26,
   "metadata": {
    "collapsed": false
   },
   "outputs": [],
   "source": [
    "survey = survey.dropna(subset=['CountryLive'])\n",
    "survey_tgt = survey.query('CountryLive==\"United States of America\" or CountryLive==\"United Kingdom\" or CountryLive==\"India\" or CountryLive==\"Canada\"')"
   ]
  },
  {
   "cell_type": "code",
   "execution_count": 29,
   "metadata": {
    "collapsed": false
   },
   "outputs": [
    {
     "data": {
      "text/plain": [
       "1     United States of America\n",
       "2     United States of America\n",
       "6               United Kingdom\n",
       "15    United States of America\n",
       "16    United States of America\n",
       "Name: CountryLive, dtype: object"
      ]
     },
     "execution_count": 29,
     "metadata": {},
     "output_type": "execute_result"
    }
   ],
   "source": [
    "survey_tgt['CountryLive'].head()"
   ]
  },
  {
   "cell_type": "code",
   "execution_count": 38,
   "metadata": {
    "collapsed": false
   },
   "outputs": [
    {
     "data": {
      "text/html": [
       "<div>\n",
       "<style scoped>\n",
       "    .dataframe tbody tr th:only-of-type {\n",
       "        vertical-align: middle;\n",
       "    }\n",
       "\n",
       "    .dataframe tbody tr th {\n",
       "        vertical-align: top;\n",
       "    }\n",
       "\n",
       "    .dataframe thead th {\n",
       "        text-align: right;\n",
       "    }\n",
       "</style>\n",
       "<table border=\"1\" class=\"dataframe\">\n",
       "  <thead>\n",
       "    <tr style=\"text-align: right;\">\n",
       "      <th></th>\n",
       "      <th>MoneySpentPerMonth</th>\n",
       "    </tr>\n",
       "    <tr>\n",
       "      <th>CountryLive</th>\n",
       "      <th></th>\n",
       "    </tr>\n",
       "  </thead>\n",
       "  <tbody>\n",
       "    <tr>\n",
       "      <th>Canada</th>\n",
       "      <td>113.510961</td>\n",
       "    </tr>\n",
       "    <tr>\n",
       "      <th>India</th>\n",
       "      <td>135.100982</td>\n",
       "    </tr>\n",
       "    <tr>\n",
       "      <th>United Kingdom</th>\n",
       "      <td>45.534443</td>\n",
       "    </tr>\n",
       "    <tr>\n",
       "      <th>United States of America</th>\n",
       "      <td>227.997996</td>\n",
       "    </tr>\n",
       "  </tbody>\n",
       "</table>\n",
       "</div>"
      ],
      "text/plain": [
       "                          MoneySpentPerMonth\n",
       "CountryLive                                 \n",
       "Canada                            113.510961\n",
       "India                             135.100982\n",
       "United Kingdom                     45.534443\n",
       "United States of America          227.997996"
      ]
     },
     "execution_count": 38,
     "metadata": {},
     "output_type": "execute_result"
    }
   ],
   "source": [
    "survey_tgt.groupby(['CountryLive'])[['MoneySpentPerMonth']].mean()"
   ]
  },
  {
   "cell_type": "code",
   "execution_count": 47,
   "metadata": {
    "collapsed": false,
    "scrolled": true
   },
   "outputs": [
    {
     "data": {
      "text/plain": [
       "<matplotlib.text.Text at 0x7f0c211d8f60>"
      ]
     },
     "execution_count": 47,
     "metadata": {},
     "output_type": "execute_result"
    },
    {
     "data": {
      "image/png": "[encoded data removed]",
      "text/plain": [
       "<matplotlib.figure.Figure at 0x7f0c21a57d68>"
      ]
     },
     "metadata": {},
     "output_type": "display_data"
    }
   ],
   "source": [
    "india = survey_tgt[survey_tgt['CountryLive']=='India']\n",
    "uk = survey_tgt[survey_tgt['CountryLive']=='United Kingdom']\n",
    "us = survey_tgt[survey_tgt['CountryLive']=='United States of America']\n",
    "ca = survey_tgt[survey_tgt['CountryLive']=='Canada']\n",
    "\n",
    "plt.figure(figsize=(13,6))\n",
    "plt.subplot(1,4,1)\n",
    "us['MoneySpentPerMonth'].plot.box()\n",
    "plt.title('US')\n",
    "plt.subplot(1,4,2)\n",
    "india['MoneySpentPerMonth'].plot.box()\n",
    "plt.title('India')\n",
    "plt.subplot(1,4,3)\n",
    "ca['MoneySpentPerMonth'].plot.box()\n",
    "plt.title('Canada')\n",
    "plt.subplot(1,4,4)\n",
    "uk['MoneySpentPerMonth'].plot.box()\n",
    "plt.title('UK')"
   ]
  },
  {
   "cell_type": "markdown",
   "metadata": {},
   "source": [
    "### Removing extreme outliers!"
   ]
  },
  {
   "cell_type": "code",
   "execution_count": 57,
   "metadata": {
    "collapsed": false
   },
   "outputs": [],
   "source": [
    "survey_adj = survey_tgt.copy()\n",
    "survey_adj.drop(survey_adj[(survey_adj['CountryLive']=='India') & (survey_adj['MoneySpentPerMonth']>4000)].index, inplace=True)"
   ]
  },
  {
   "cell_type": "code",
   "execution_count": 60,
   "metadata": {
    "collapsed": false
   },
   "outputs": [],
   "source": [
    "survey_adj.drop(survey_adj[(survey_adj['CountryLive']=='Canada') & (survey_adj['MoneySpentPerMonth']>3000)].index, inplace=True)"
   ]
  },
  {
   "cell_type": "code",
   "execution_count": 62,
   "metadata": {
    "collapsed": false
   },
   "outputs": [],
   "source": [
    "survey_adj.drop(survey_adj[(survey_adj['CountryLive']=='United Kingdom') & (survey_adj['MoneySpentPerMonth']>800)].index, inplace=True)"
   ]
  },
  {
   "cell_type": "code",
   "execution_count": 64,
   "metadata": {
    "collapsed": false
   },
   "outputs": [],
   "source": [
    "survey_adj.drop(survey_adj[(survey_adj['CountryLive']=='United States of America') & (survey_adj['MoneySpentPerMonth']>20000)].index,inplace=True)"
   ]
  },
  {
   "cell_type": "markdown",
   "metadata": {},
   "source": [
    "#### New Breakdown after Outlier Removal"
   ]
  },
  {
   "cell_type": "code",
   "execution_count": 68,
   "metadata": {
    "collapsed": false
   },
   "outputs": [
    {
     "data": {
      "text/html": [
       "<div>\n",
       "<style scoped>\n",
       "    .dataframe tbody tr th:only-of-type {\n",
       "        vertical-align: middle;\n",
       "    }\n",
       "\n",
       "    .dataframe tbody tr th {\n",
       "        vertical-align: top;\n",
       "    }\n",
       "\n",
       "    .dataframe thead th {\n",
       "        text-align: right;\n",
       "    }\n",
       "</style>\n",
       "<table border=\"1\" class=\"dataframe\">\n",
       "  <thead>\n",
       "    <tr style=\"text-align: right;\">\n",
       "      <th></th>\n",
       "      <th>MoneySpentPerMonth</th>\n",
       "    </tr>\n",
       "    <tr>\n",
       "      <th>CountryLive</th>\n",
       "      <th></th>\n",
       "    </tr>\n",
       "  </thead>\n",
       "  <tbody>\n",
       "    <tr>\n",
       "      <th>Canada</th>\n",
       "      <td>93.065400</td>\n",
       "    </tr>\n",
       "    <tr>\n",
       "      <th>India</th>\n",
       "      <td>72.893205</td>\n",
       "    </tr>\n",
       "    <tr>\n",
       "      <th>United Kingdom</th>\n",
       "      <td>25.245838</td>\n",
       "    </tr>\n",
       "    <tr>\n",
       "      <th>United States of America</th>\n",
       "      <td>183.800110</td>\n",
       "    </tr>\n",
       "  </tbody>\n",
       "</table>\n",
       "</div>"
      ],
      "text/plain": [
       "                          MoneySpentPerMonth\n",
       "CountryLive                                 \n",
       "Canada                             93.065400\n",
       "India                              72.893205\n",
       "United Kingdom                     25.245838\n",
       "United States of America          183.800110"
      ]
     },
     "execution_count": 68,
     "metadata": {},
     "output_type": "execute_result"
    }
   ],
   "source": [
    "survey_adj.groupby(['CountryLive'])[['MoneySpentPerMonth']].mean()"
   ]
  },
  {
   "cell_type": "markdown",
   "metadata": {},
   "source": [
    "### Conclusion"
   ]
  },
  {
   "cell_type": "markdown",
   "metadata": {},
   "source": [
    "* Based on the above breakdown, I would recommend advertising in the U.S. and Canada.  Based on the target price of $59 per month especially.  It may also be worth advertising in India as well based on the above per month spend and the number of people who live in that country.\n",
    "* I would recommend splitting the advertising 50% in U.S., 35% in CA, 15% in India\n",
    "* The marketing department can examine these recommendations and adjust them based on their market insights"
   ]
  },
  {
   "cell_type": "code",
   "execution_count": null,
   "metadata": {
    "collapsed": true
   },
   "outputs": [],
   "source": []
  }
 ],
 "metadata": {
  "kernelspec": {
   "display_name": "Python 3",
   "language": "python",
   "name": "python3"
  },
  "language_info": {
   "codemirror_mode": {
    "name": "ipython",
    "version": 3
   },
   "file_extension": ".py",
   "mimetype": "text/x-python",
   "name": "python",
   "nbconvert_exporter": "python",
   "pygments_lexer": "ipython3",
   "version": "3.4.3"
  }
 },
 "nbformat": 4,
 "nbformat_minor": 2
}
